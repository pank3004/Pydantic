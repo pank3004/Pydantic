{
 "cells": [
  {
   "cell_type": "markdown",
   "id": "bf2d77df",
   "metadata": {},
   "source": [
    "## problem 1>> type validation"
   ]
  },
  {
   "cell_type": "code",
   "execution_count": null,
   "id": "e5c59a68",
   "metadata": {},
   "outputs": [
    {
     "name": "stdout",
     "output_type": "stream",
     "text": [
      "panakj\n",
      "30\n",
      "New patient data entered\n",
      "pankaj\n",
      "thirty\n",
      "New patient data entered\n"
     ]
    }
   ],
   "source": [
    "# let we want to enter new patient data in the database\n",
    "\n",
    "def insert_patient(name, age): \n",
    "    print(name)\n",
    "    print(age)\n",
    "    print(\"New patient data entered\")\n",
    "\n",
    "insert_patient('panakj', 30)\n",
    "insert_patient('pankaj', 'thirty')  # data base expect age as int but str is given.. no error but not type validation\n"
   ]
  },
  {
   "cell_type": "code",
   "execution_count": 5,
   "id": "5b5c468f",
   "metadata": {},
   "outputs": [
    {
     "name": "stdout",
     "output_type": "stream",
     "text": [
      "panakj\n",
      "30\n",
      "New patient data entered\n",
      "pankaj\n",
      "thirty\n",
      "New patient data entered\n"
     ]
    }
   ],
   "source": [
    "\n",
    "def insert_patient(name:str, age:int): \n",
    "    print(name)\n",
    "    print(age)\n",
    "    print(\"New patient data entered\")\n",
    "\n",
    "insert_patient('panakj', 30)\n",
    "insert_patient('pankaj', 'thirty')   # still it give accept\n"
   ]
  },
  {
   "cell_type": "code",
   "execution_count": null,
   "id": "bf992804",
   "metadata": {},
   "outputs": [
    {
     "name": "stdout",
     "output_type": "stream",
     "text": [
      "panakj\n",
      "30\n",
      "New patient data entered\n"
     ]
    },
    {
     "ename": "TypeError",
     "evalue": "",
     "output_type": "error",
     "traceback": [
      "\u001b[1;31m---------------------------------------------------------------------------\u001b[0m",
      "\u001b[1;31mTypeError\u001b[0m                                 Traceback (most recent call last)",
      "Cell \u001b[1;32mIn[10], line 13\u001b[0m\n\u001b[0;32m      9\u001b[0m         \u001b[38;5;28;01mraise\u001b[39;00m \u001b[38;5;167;01mTypeError\u001b[39;00m\n\u001b[0;32m     12\u001b[0m insert_patient(\u001b[38;5;124m'\u001b[39m\u001b[38;5;124mpanakj\u001b[39m\u001b[38;5;124m'\u001b[39m, \u001b[38;5;241m30\u001b[39m)  \n\u001b[1;32m---> 13\u001b[0m insert_patient(\u001b[38;5;124m'\u001b[39m\u001b[38;5;124mpankaj\u001b[39m\u001b[38;5;124m'\u001b[39m, \u001b[38;5;124m'\u001b[39m\u001b[38;5;124mthirty\u001b[39m\u001b[38;5;124m'\u001b[39m)\n",
      "Cell \u001b[1;32mIn[10], line 9\u001b[0m, in \u001b[0;36minsert_patient\u001b[1;34m(name, age)\u001b[0m\n\u001b[0;32m      7\u001b[0m     \u001b[38;5;28mprint\u001b[39m(\u001b[38;5;124m\"\u001b[39m\u001b[38;5;124mNew patient data entered\u001b[39m\u001b[38;5;124m\"\u001b[39m)\n\u001b[0;32m      8\u001b[0m \u001b[38;5;28;01melse\u001b[39;00m: \n\u001b[1;32m----> 9\u001b[0m     \u001b[38;5;28;01mraise\u001b[39;00m \u001b[38;5;167;01mTypeError\u001b[39;00m\n",
      "\u001b[1;31mTypeError\u001b[0m: "
     ]
    }
   ],
   "source": [
    "\n",
    "def insert_patient(name:str, age:int): \n",
    "    if(type(name)==str and type(age)==int):\n",
    "        print(name)\n",
    "        print(age)\n",
    "        print(\"New patient data entered\")\n",
    "    else: \n",
    "        raise TypeError\n",
    "\n",
    "\n",
    "insert_patient('panakj', 30)  \n",
    "insert_patient('pankaj', 'thirty') \n",
    "\n",
    "# ok but suppose therre are more than 2 fn and more than 3 arguments then it ... complex code .. not scalable that'why .. pydandic\n"
   ]
  },
  {
   "cell_type": "markdown",
   "id": "d2453a2f",
   "metadata": {},
   "source": [
    "## problem 2>> data validation"
   ]
  },
  {
   "cell_type": "code",
   "execution_count": null,
   "id": "a27783ff",
   "metadata": {},
   "outputs": [
    {
     "name": "stdout",
     "output_type": "stream",
     "text": [
      "panakj\n",
      "30\n",
      "New patient data entered\n"
     ]
    },
    {
     "ename": "TypeError",
     "evalue": "",
     "output_type": "error",
     "traceback": [
      "\u001b[1;31m---------------------------------------------------------------------------\u001b[0m",
      "\u001b[1;31mTypeError\u001b[0m                                 Traceback (most recent call last)",
      "Cell \u001b[1;32mIn[15], line 16\u001b[0m\n\u001b[0;32m     12\u001b[0m         \u001b[38;5;28;01mraise\u001b[39;00m \u001b[38;5;167;01mTypeError\u001b[39;00m\n\u001b[0;32m     15\u001b[0m insert_patient(\u001b[38;5;124m'\u001b[39m\u001b[38;5;124mpanakj\u001b[39m\u001b[38;5;124m'\u001b[39m, \u001b[38;5;241m30\u001b[39m)  \n\u001b[1;32m---> 16\u001b[0m insert_patient(\u001b[38;5;124m'\u001b[39m\u001b[38;5;124mpankaj\u001b[39m\u001b[38;5;124m'\u001b[39m, \u001b[38;5;241m-\u001b[39m\u001b[38;5;241m74\u001b[39m)\n",
      "Cell \u001b[1;32mIn[15], line 6\u001b[0m, in \u001b[0;36minsert_patient\u001b[1;34m(name, age)\u001b[0m\n\u001b[0;32m      4\u001b[0m \u001b[38;5;28;01mif\u001b[39;00m(\u001b[38;5;28mtype\u001b[39m(name)\u001b[38;5;241m==\u001b[39m\u001b[38;5;28mstr\u001b[39m \u001b[38;5;129;01mand\u001b[39;00m \u001b[38;5;28mtype\u001b[39m(age)\u001b[38;5;241m==\u001b[39m\u001b[38;5;28mint\u001b[39m):\n\u001b[0;32m      5\u001b[0m     \u001b[38;5;28;01mif\u001b[39;00m(age\u001b[38;5;241m<\u001b[39m\u001b[38;5;241m0\u001b[39m): \n\u001b[1;32m----> 6\u001b[0m         \u001b[38;5;28;01mraise\u001b[39;00m \u001b[38;5;167;01mTypeError\u001b[39;00m\n\u001b[0;32m      7\u001b[0m     \u001b[38;5;28;01melse\u001b[39;00m:\n\u001b[0;32m      8\u001b[0m         \u001b[38;5;28mprint\u001b[39m(name)\n",
      "\u001b[1;31mTypeError\u001b[0m: "
     ]
    }
   ],
   "source": [
    "# age should not --ve\n",
    "\n",
    "def insert_patient(name:str, age:int): \n",
    "    if(type(name)==str and type(age)==int):\n",
    "        if(age<0): \n",
    "            raise TypeError\n",
    "        else:\n",
    "            print(name)\n",
    "            print(age)\n",
    "            print(\"New patient data entered\")\n",
    "    else: \n",
    "        raise TypeError\n",
    "\n",
    "\n",
    "insert_patient('panakj', 30)  \n",
    "insert_patient('pankaj', -74)\n",
    "\n",
    "# we got achive but again problem of scalability >> that's why >> pydantic"
   ]
  },
  {
   "cell_type": "code",
   "execution_count": null,
   "id": "1dacc040",
   "metadata": {},
   "outputs": [],
   "source": []
  }
 ],
 "metadata": {
  "kernelspec": {
   "display_name": "base",
   "language": "python",
   "name": "python3"
  },
  "language_info": {
   "codemirror_mode": {
    "name": "ipython",
    "version": 3
   },
   "file_extension": ".py",
   "mimetype": "text/x-python",
   "name": "python",
   "nbconvert_exporter": "python",
   "pygments_lexer": "ipython3",
   "version": "3.12.4"
  }
 },
 "nbformat": 4,
 "nbformat_minor": 5
}
